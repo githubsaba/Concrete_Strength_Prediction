{
 "cells": [
  {
   "cell_type": "markdown",
   "id": "ee586c91",
   "metadata": {},
   "source": [
    "# Concrete Strength Indicator\n",
    "Life cycle of Machine learning Project\n",
    "\n",
    "•\tUnderstanding the Problem Statement\n",
    "\n",
    "•\tData Collection\n",
    "\n",
    "•\tData Checks to perform\n",
    "\n",
    "•\tExploratory data analysis\n",
    "\n",
    "•\tData Pre-Processing\n",
    "\n",
    "•\tModel Training\n",
    "\n",
    "•\tChoose best model\n",
    "\n",
    "\n",
    "\n",
    "1) Problem statement\n",
    "The quality of concrete is determined by its compressive strength, which is measured using a conventional crushing test on a concrete cylinder. The strength of the concrete is also a vital aspect in achieving the requisite longevity. It will take 28 days to test strength, which is a long period. So, what will we do now? We can save a lot of time and effort by using Data Science to estimate how much quantity of which raw material we need for acceptable compressive strength.\n",
    "\n",
    "\n",
    "2) Data Collection\n",
    "•\tDataset Source - https://www.kaggle.com/datasets/elikplim/concrete-compressive-strength-data-set\n",
    "•\tThe data consists of 9 column and 1030 rows.\n"
   ]
  },
  {
   "cell_type": "markdown",
   "id": "90adc765",
   "metadata": {},
   "source": [
    "2.1 Import Data and Required Packages\n",
    "\n",
    "Importing Pandas, Numpy, Matplotlib, Seaborn , warings Library.\n"
   ]
  },
  {
   "cell_type": "code",
   "execution_count": 2,
   "id": "0f274d77",
   "metadata": {},
   "outputs": [],
   "source": [
    "import pandas as pd\n",
    "import numpy as np\n",
    "import seaborn as sns\n",
    "import matplotlib.pyplot as plt\n",
    "%matplotlib inline\n",
    "import warnings\n",
    "warnings.filterwarnings('ignore')"
   ]
  },
  {
   "cell_type": "markdown",
   "id": "d929a899",
   "metadata": {},
   "source": [
    "Import the CSV Data as Pandas DataFrame"
   ]
  },
  {
   "cell_type": "code",
   "execution_count": 3,
   "id": "42454eaf",
   "metadata": {},
   "outputs": [],
   "source": [
    "df = pd.read_csv(r\"F:\\7days_MLproject\\Notebook\\Data\\concrete_data.csv\")"
   ]
  },
  {
   "cell_type": "markdown",
   "id": "4e4502e8",
   "metadata": {},
   "source": [
    "Show Top 5 Records"
   ]
  },
  {
   "cell_type": "code",
   "execution_count": 4,
   "id": "2477c261",
   "metadata": {},
   "outputs": [
    {
     "data": {
      "text/html": [
       "<div>\n",
       "<style scoped>\n",
       "    .dataframe tbody tr th:only-of-type {\n",
       "        vertical-align: middle;\n",
       "    }\n",
       "\n",
       "    .dataframe tbody tr th {\n",
       "        vertical-align: top;\n",
       "    }\n",
       "\n",
       "    .dataframe thead th {\n",
       "        text-align: right;\n",
       "    }\n",
       "</style>\n",
       "<table border=\"1\" class=\"dataframe\">\n",
       "  <thead>\n",
       "    <tr style=\"text-align: right;\">\n",
       "      <th></th>\n",
       "      <th>cement</th>\n",
       "      <th>blast_furnace_slag</th>\n",
       "      <th>fly_ash</th>\n",
       "      <th>water</th>\n",
       "      <th>superplasticizer</th>\n",
       "      <th>coarse_aggregate</th>\n",
       "      <th>fine_aggregate</th>\n",
       "      <th>age</th>\n",
       "      <th>concrete_compressive_strength</th>\n",
       "    </tr>\n",
       "  </thead>\n",
       "  <tbody>\n",
       "    <tr>\n",
       "      <th>0</th>\n",
       "      <td>540.0</td>\n",
       "      <td>0.0</td>\n",
       "      <td>0.0</td>\n",
       "      <td>162.0</td>\n",
       "      <td>2.5</td>\n",
       "      <td>1040.0</td>\n",
       "      <td>676.0</td>\n",
       "      <td>28</td>\n",
       "      <td>79.99</td>\n",
       "    </tr>\n",
       "    <tr>\n",
       "      <th>1</th>\n",
       "      <td>540.0</td>\n",
       "      <td>0.0</td>\n",
       "      <td>0.0</td>\n",
       "      <td>162.0</td>\n",
       "      <td>2.5</td>\n",
       "      <td>1055.0</td>\n",
       "      <td>676.0</td>\n",
       "      <td>28</td>\n",
       "      <td>61.89</td>\n",
       "    </tr>\n",
       "    <tr>\n",
       "      <th>2</th>\n",
       "      <td>332.5</td>\n",
       "      <td>142.5</td>\n",
       "      <td>0.0</td>\n",
       "      <td>228.0</td>\n",
       "      <td>0.0</td>\n",
       "      <td>932.0</td>\n",
       "      <td>594.0</td>\n",
       "      <td>270</td>\n",
       "      <td>40.27</td>\n",
       "    </tr>\n",
       "    <tr>\n",
       "      <th>3</th>\n",
       "      <td>332.5</td>\n",
       "      <td>142.5</td>\n",
       "      <td>0.0</td>\n",
       "      <td>228.0</td>\n",
       "      <td>0.0</td>\n",
       "      <td>932.0</td>\n",
       "      <td>594.0</td>\n",
       "      <td>365</td>\n",
       "      <td>41.05</td>\n",
       "    </tr>\n",
       "    <tr>\n",
       "      <th>4</th>\n",
       "      <td>198.6</td>\n",
       "      <td>132.4</td>\n",
       "      <td>0.0</td>\n",
       "      <td>192.0</td>\n",
       "      <td>0.0</td>\n",
       "      <td>978.4</td>\n",
       "      <td>825.5</td>\n",
       "      <td>360</td>\n",
       "      <td>44.30</td>\n",
       "    </tr>\n",
       "  </tbody>\n",
       "</table>\n",
       "</div>"
      ],
      "text/plain": [
       "   cement  blast_furnace_slag  fly_ash  water  superplasticizer  \\\n",
       "0   540.0                 0.0      0.0  162.0               2.5   \n",
       "1   540.0                 0.0      0.0  162.0               2.5   \n",
       "2   332.5               142.5      0.0  228.0               0.0   \n",
       "3   332.5               142.5      0.0  228.0               0.0   \n",
       "4   198.6               132.4      0.0  192.0               0.0   \n",
       "\n",
       "   coarse_aggregate  fine_aggregate   age  concrete_compressive_strength  \n",
       "0            1040.0            676.0   28                          79.99  \n",
       "1            1055.0            676.0   28                          61.89  \n",
       "2             932.0            594.0  270                          40.27  \n",
       "3             932.0            594.0  365                          41.05  \n",
       "4             978.4            825.5  360                          44.30  "
      ]
     },
     "execution_count": 4,
     "metadata": {},
     "output_type": "execute_result"
    }
   ],
   "source": [
    "df.head()"
   ]
  },
  {
   "cell_type": "markdown",
   "id": "bdb73693",
   "metadata": {},
   "source": [
    "Shape of Dataset"
   ]
  },
  {
   "cell_type": "code",
   "execution_count": 5,
   "id": "40dda21a",
   "metadata": {},
   "outputs": [
    {
     "data": {
      "text/plain": [
       "(1030, 9)"
      ]
     },
     "execution_count": 5,
     "metadata": {},
     "output_type": "execute_result"
    }
   ],
   "source": [
    "df.shape"
   ]
  },
  {
   "cell_type": "markdown",
   "id": "4367a111",
   "metadata": {},
   "source": [
    "2.2  Dataset information\n",
    "\n",
    "\tName -- Data Type -- Measurement -- Description\n",
    "    \n",
    "•\tCement (component 1) -- quantitative -- kg in a m3 mixture -- Input Variable\n",
    "\n",
    "•\tBlast Furnace Slag (component 2) -- quantitative -- kg in a m3 mixture -- Input Variable\n",
    "\n",
    "•\tFly Ash (component 3) -- quantitative -- kg in a m3 mixture -- Input Variable\n",
    "\n",
    "•\tWater (component 4) -- quantitative -- kg in a m3 mixture -- Input Variable\n",
    "\n",
    "•\tSuperplasticizer (component 5) -- quantitative -- kg in a m3 mixture -- Input Variable\n",
    "\n",
    "•\tCoarse Aggregate (component 6) -- quantitative -- kg in a m3 mixture -- Input Variable\n",
    "\n",
    "•\tFine Aggregate (component 7) -- quantitative -- kg in a m3 mixture -- Input Variable\n",
    "\n",
    "•\tAge -- quantitative -- Day (1~365) -- Input Variable\n",
    "\n",
    "•\tConcrete compressive strength -- quantitative -- MPa -- Output Variable\n"
   ]
  },
  {
   "cell_type": "markdown",
   "id": "810fee4a",
   "metadata": {},
   "source": [
    "3. Data Checks to perform\n",
    "\n",
    "•\tCheck Missing values\n",
    "\n",
    "•\tCheck Duplicates\n",
    "\n",
    "•\tCheck data type\n",
    "\n",
    "•\tCheck statistics of data set\n"
   ]
  },
  {
   "cell_type": "markdown",
   "id": "fc3271ee",
   "metadata": {},
   "source": [
    " 3.1 Check Missing values"
   ]
  },
  {
   "cell_type": "code",
   "execution_count": 6,
   "id": "03e2cd01",
   "metadata": {},
   "outputs": [
    {
     "data": {
      "text/plain": [
       "cement                           0\n",
       "blast_furnace_slag               0\n",
       "fly_ash                          0\n",
       "water                            0\n",
       "superplasticizer                 0\n",
       "coarse_aggregate                 0\n",
       "fine_aggregate                   0\n",
       "age                              0\n",
       "concrete_compressive_strength    0\n",
       "dtype: int64"
      ]
     },
     "execution_count": 6,
     "metadata": {},
     "output_type": "execute_result"
    }
   ],
   "source": [
    "df.isnull().sum()"
   ]
  },
  {
   "cell_type": "markdown",
   "id": "1d9e8fdb",
   "metadata": {},
   "source": [
    "There are no missing values in dataset"
   ]
  },
  {
   "cell_type": "markdown",
   "id": "3b98066b",
   "metadata": {},
   "source": [
    "3.2 Check duplicates"
   ]
  },
  {
   "cell_type": "code",
   "execution_count": 7,
   "id": "65a2e803",
   "metadata": {},
   "outputs": [
    {
     "data": {
      "text/plain": [
       "25"
      ]
     },
     "execution_count": 7,
     "metadata": {},
     "output_type": "execute_result"
    }
   ],
   "source": [
    "df.duplicated().sum()"
   ]
  },
  {
   "cell_type": "markdown",
   "id": "1053b866",
   "metadata": {},
   "source": [
    "There are 25 duplicated values in the dataset.\n",
    "Dropping all the duplicated values."
   ]
  },
  {
   "cell_type": "code",
   "execution_count": 8,
   "id": "4f9e9bf8",
   "metadata": {},
   "outputs": [],
   "source": [
    "df.drop_duplicates(inplace=True)"
   ]
  },
  {
   "cell_type": "markdown",
   "id": "ad939b76",
   "metadata": {},
   "source": [
    "3.3 Check data types"
   ]
  },
  {
   "cell_type": "code",
   "execution_count": 9,
   "id": "4e5d2e6d",
   "metadata": {},
   "outputs": [
    {
     "name": "stdout",
     "output_type": "stream",
     "text": [
      "<class 'pandas.core.frame.DataFrame'>\n",
      "Int64Index: 1005 entries, 0 to 1029\n",
      "Data columns (total 9 columns):\n",
      " #   Column                         Non-Null Count  Dtype  \n",
      "---  ------                         --------------  -----  \n",
      " 0   cement                         1005 non-null   float64\n",
      " 1   blast_furnace_slag             1005 non-null   float64\n",
      " 2   fly_ash                        1005 non-null   float64\n",
      " 3   water                          1005 non-null   float64\n",
      " 4   superplasticizer               1005 non-null   float64\n",
      " 5   coarse_aggregate               1005 non-null   float64\n",
      " 6   fine_aggregate                 1005 non-null   float64\n",
      " 7   age                            1005 non-null   int64  \n",
      " 8   concrete_compressive_strength  1005 non-null   float64\n",
      "dtypes: float64(8), int64(1)\n",
      "memory usage: 78.5 KB\n"
     ]
    }
   ],
   "source": [
    "df.info()"
   ]
  },
  {
   "cell_type": "markdown",
   "id": "8cedbdb2",
   "metadata": {},
   "source": [
    "3.4 Check statistics of data set"
   ]
  },
  {
   "cell_type": "code",
   "execution_count": 10,
   "id": "9f225b1f",
   "metadata": {},
   "outputs": [
    {
     "data": {
      "text/html": [
       "<div>\n",
       "<style scoped>\n",
       "    .dataframe tbody tr th:only-of-type {\n",
       "        vertical-align: middle;\n",
       "    }\n",
       "\n",
       "    .dataframe tbody tr th {\n",
       "        vertical-align: top;\n",
       "    }\n",
       "\n",
       "    .dataframe thead th {\n",
       "        text-align: right;\n",
       "    }\n",
       "</style>\n",
       "<table border=\"1\" class=\"dataframe\">\n",
       "  <thead>\n",
       "    <tr style=\"text-align: right;\">\n",
       "      <th></th>\n",
       "      <th>cement</th>\n",
       "      <th>blast_furnace_slag</th>\n",
       "      <th>fly_ash</th>\n",
       "      <th>water</th>\n",
       "      <th>superplasticizer</th>\n",
       "      <th>coarse_aggregate</th>\n",
       "      <th>fine_aggregate</th>\n",
       "      <th>age</th>\n",
       "      <th>concrete_compressive_strength</th>\n",
       "    </tr>\n",
       "  </thead>\n",
       "  <tbody>\n",
       "    <tr>\n",
       "      <th>count</th>\n",
       "      <td>1005.000000</td>\n",
       "      <td>1005.000000</td>\n",
       "      <td>1005.000000</td>\n",
       "      <td>1005.000000</td>\n",
       "      <td>1005.000000</td>\n",
       "      <td>1005.000000</td>\n",
       "      <td>1005.000000</td>\n",
       "      <td>1005.000000</td>\n",
       "      <td>1005.000000</td>\n",
       "    </tr>\n",
       "    <tr>\n",
       "      <th>mean</th>\n",
       "      <td>278.631343</td>\n",
       "      <td>72.043483</td>\n",
       "      <td>55.536318</td>\n",
       "      <td>182.075323</td>\n",
       "      <td>6.033234</td>\n",
       "      <td>974.376816</td>\n",
       "      <td>772.688259</td>\n",
       "      <td>45.856716</td>\n",
       "      <td>35.250378</td>\n",
       "    </tr>\n",
       "    <tr>\n",
       "      <th>std</th>\n",
       "      <td>104.344261</td>\n",
       "      <td>86.170807</td>\n",
       "      <td>64.207969</td>\n",
       "      <td>21.339334</td>\n",
       "      <td>5.919967</td>\n",
       "      <td>77.579667</td>\n",
       "      <td>80.340435</td>\n",
       "      <td>63.734692</td>\n",
       "      <td>16.284815</td>\n",
       "    </tr>\n",
       "    <tr>\n",
       "      <th>min</th>\n",
       "      <td>102.000000</td>\n",
       "      <td>0.000000</td>\n",
       "      <td>0.000000</td>\n",
       "      <td>121.800000</td>\n",
       "      <td>0.000000</td>\n",
       "      <td>801.000000</td>\n",
       "      <td>594.000000</td>\n",
       "      <td>1.000000</td>\n",
       "      <td>2.330000</td>\n",
       "    </tr>\n",
       "    <tr>\n",
       "      <th>25%</th>\n",
       "      <td>190.700000</td>\n",
       "      <td>0.000000</td>\n",
       "      <td>0.000000</td>\n",
       "      <td>166.600000</td>\n",
       "      <td>0.000000</td>\n",
       "      <td>932.000000</td>\n",
       "      <td>724.300000</td>\n",
       "      <td>7.000000</td>\n",
       "      <td>23.520000</td>\n",
       "    </tr>\n",
       "    <tr>\n",
       "      <th>50%</th>\n",
       "      <td>265.000000</td>\n",
       "      <td>20.000000</td>\n",
       "      <td>0.000000</td>\n",
       "      <td>185.700000</td>\n",
       "      <td>6.100000</td>\n",
       "      <td>968.000000</td>\n",
       "      <td>780.000000</td>\n",
       "      <td>28.000000</td>\n",
       "      <td>33.800000</td>\n",
       "    </tr>\n",
       "    <tr>\n",
       "      <th>75%</th>\n",
       "      <td>349.000000</td>\n",
       "      <td>142.500000</td>\n",
       "      <td>118.300000</td>\n",
       "      <td>192.900000</td>\n",
       "      <td>10.000000</td>\n",
       "      <td>1031.000000</td>\n",
       "      <td>822.200000</td>\n",
       "      <td>56.000000</td>\n",
       "      <td>44.870000</td>\n",
       "    </tr>\n",
       "    <tr>\n",
       "      <th>max</th>\n",
       "      <td>540.000000</td>\n",
       "      <td>359.400000</td>\n",
       "      <td>200.100000</td>\n",
       "      <td>247.000000</td>\n",
       "      <td>32.200000</td>\n",
       "      <td>1145.000000</td>\n",
       "      <td>992.600000</td>\n",
       "      <td>365.000000</td>\n",
       "      <td>82.600000</td>\n",
       "    </tr>\n",
       "  </tbody>\n",
       "</table>\n",
       "</div>"
      ],
      "text/plain": [
       "            cement  blast_furnace_slag      fly_ash        water  \\\n",
       "count  1005.000000         1005.000000  1005.000000  1005.000000   \n",
       "mean    278.631343           72.043483    55.536318   182.075323   \n",
       "std     104.344261           86.170807    64.207969    21.339334   \n",
       "min     102.000000            0.000000     0.000000   121.800000   \n",
       "25%     190.700000            0.000000     0.000000   166.600000   \n",
       "50%     265.000000           20.000000     0.000000   185.700000   \n",
       "75%     349.000000          142.500000   118.300000   192.900000   \n",
       "max     540.000000          359.400000   200.100000   247.000000   \n",
       "\n",
       "       superplasticizer  coarse_aggregate  fine_aggregate           age  \\\n",
       "count       1005.000000       1005.000000      1005.000000  1005.000000   \n",
       "mean           6.033234        974.376816       772.688259    45.856716   \n",
       "std            5.919967         77.579667        80.340435    63.734692   \n",
       "min            0.000000        801.000000       594.000000     1.000000   \n",
       "25%            0.000000        932.000000       724.300000     7.000000   \n",
       "50%            6.100000        968.000000       780.000000    28.000000   \n",
       "75%           10.000000       1031.000000       822.200000    56.000000   \n",
       "max           32.200000       1145.000000       992.600000   365.000000   \n",
       "\n",
       "       concrete_compressive_strength  \n",
       "count                    1005.000000  \n",
       "mean                       35.250378  \n",
       "std                        16.284815  \n",
       "min                         2.330000  \n",
       "25%                        23.520000  \n",
       "50%                        33.800000  \n",
       "75%                        44.870000  \n",
       "max                        82.600000  "
      ]
     },
     "execution_count": 10,
     "metadata": {},
     "output_type": "execute_result"
    }
   ],
   "source": [
    "df.describe()"
   ]
  },
  {
   "cell_type": "code",
   "execution_count": 12,
   "id": "52f84082",
   "metadata": {},
   "outputs": [
    {
     "data": {
      "text/html": [
       "<div>\n",
       "<style scoped>\n",
       "    .dataframe tbody tr th:only-of-type {\n",
       "        vertical-align: middle;\n",
       "    }\n",
       "\n",
       "    .dataframe tbody tr th {\n",
       "        vertical-align: top;\n",
       "    }\n",
       "\n",
       "    .dataframe thead th {\n",
       "        text-align: right;\n",
       "    }\n",
       "</style>\n",
       "<table border=\"1\" class=\"dataframe\">\n",
       "  <thead>\n",
       "    <tr style=\"text-align: right;\">\n",
       "      <th></th>\n",
       "      <th>cement</th>\n",
       "      <th>blast_furnace_slag</th>\n",
       "      <th>fly_ash</th>\n",
       "      <th>water</th>\n",
       "      <th>superplasticizer</th>\n",
       "      <th>coarse_aggregate</th>\n",
       "      <th>fine_aggregate</th>\n",
       "      <th>age</th>\n",
       "      <th>concrete_compressive_strength</th>\n",
       "    </tr>\n",
       "  </thead>\n",
       "  <tbody>\n",
       "    <tr>\n",
       "      <th>cement</th>\n",
       "      <td>1.000000</td>\n",
       "      <td>-0.303324</td>\n",
       "      <td>-0.385610</td>\n",
       "      <td>-0.056625</td>\n",
       "      <td>0.060906</td>\n",
       "      <td>-0.086205</td>\n",
       "      <td>-0.245375</td>\n",
       "      <td>0.086348</td>\n",
       "      <td>0.488283</td>\n",
       "    </tr>\n",
       "    <tr>\n",
       "      <th>blast_furnace_slag</th>\n",
       "      <td>-0.303324</td>\n",
       "      <td>1.000000</td>\n",
       "      <td>-0.312352</td>\n",
       "      <td>0.130262</td>\n",
       "      <td>0.019800</td>\n",
       "      <td>-0.277559</td>\n",
       "      <td>-0.289685</td>\n",
       "      <td>-0.042759</td>\n",
       "      <td>0.103374</td>\n",
       "    </tr>\n",
       "    <tr>\n",
       "      <th>fly_ash</th>\n",
       "      <td>-0.385610</td>\n",
       "      <td>-0.312352</td>\n",
       "      <td>1.000000</td>\n",
       "      <td>-0.283314</td>\n",
       "      <td>0.414213</td>\n",
       "      <td>-0.026468</td>\n",
       "      <td>0.090262</td>\n",
       "      <td>-0.158940</td>\n",
       "      <td>-0.080648</td>\n",
       "    </tr>\n",
       "    <tr>\n",
       "      <th>water</th>\n",
       "      <td>-0.056625</td>\n",
       "      <td>0.130262</td>\n",
       "      <td>-0.283314</td>\n",
       "      <td>1.000000</td>\n",
       "      <td>-0.646946</td>\n",
       "      <td>-0.212480</td>\n",
       "      <td>-0.444915</td>\n",
       "      <td>0.279284</td>\n",
       "      <td>-0.269624</td>\n",
       "    </tr>\n",
       "    <tr>\n",
       "      <th>superplasticizer</th>\n",
       "      <td>0.060906</td>\n",
       "      <td>0.019800</td>\n",
       "      <td>0.414213</td>\n",
       "      <td>-0.646946</td>\n",
       "      <td>1.000000</td>\n",
       "      <td>-0.241721</td>\n",
       "      <td>0.207993</td>\n",
       "      <td>-0.194076</td>\n",
       "      <td>0.344209</td>\n",
       "    </tr>\n",
       "    <tr>\n",
       "      <th>coarse_aggregate</th>\n",
       "      <td>-0.086205</td>\n",
       "      <td>-0.277559</td>\n",
       "      <td>-0.026468</td>\n",
       "      <td>-0.212480</td>\n",
       "      <td>-0.241721</td>\n",
       "      <td>1.000000</td>\n",
       "      <td>-0.162187</td>\n",
       "      <td>-0.005264</td>\n",
       "      <td>-0.144717</td>\n",
       "    </tr>\n",
       "    <tr>\n",
       "      <th>fine_aggregate</th>\n",
       "      <td>-0.245375</td>\n",
       "      <td>-0.289685</td>\n",
       "      <td>0.090262</td>\n",
       "      <td>-0.444915</td>\n",
       "      <td>0.207993</td>\n",
       "      <td>-0.162187</td>\n",
       "      <td>1.000000</td>\n",
       "      <td>-0.156572</td>\n",
       "      <td>-0.186448</td>\n",
       "    </tr>\n",
       "    <tr>\n",
       "      <th>age</th>\n",
       "      <td>0.086348</td>\n",
       "      <td>-0.042759</td>\n",
       "      <td>-0.158940</td>\n",
       "      <td>0.279284</td>\n",
       "      <td>-0.194076</td>\n",
       "      <td>-0.005264</td>\n",
       "      <td>-0.156572</td>\n",
       "      <td>1.000000</td>\n",
       "      <td>0.337367</td>\n",
       "    </tr>\n",
       "    <tr>\n",
       "      <th>concrete_compressive_strength</th>\n",
       "      <td>0.488283</td>\n",
       "      <td>0.103374</td>\n",
       "      <td>-0.080648</td>\n",
       "      <td>-0.269624</td>\n",
       "      <td>0.344209</td>\n",
       "      <td>-0.144717</td>\n",
       "      <td>-0.186448</td>\n",
       "      <td>0.337367</td>\n",
       "      <td>1.000000</td>\n",
       "    </tr>\n",
       "  </tbody>\n",
       "</table>\n",
       "</div>"
      ],
      "text/plain": [
       "                                 cement  blast_furnace_slag   fly_ash  \\\n",
       "cement                         1.000000           -0.303324 -0.385610   \n",
       "blast_furnace_slag            -0.303324            1.000000 -0.312352   \n",
       "fly_ash                       -0.385610           -0.312352  1.000000   \n",
       "water                         -0.056625            0.130262 -0.283314   \n",
       "superplasticizer               0.060906            0.019800  0.414213   \n",
       "coarse_aggregate              -0.086205           -0.277559 -0.026468   \n",
       "fine_aggregate                -0.245375           -0.289685  0.090262   \n",
       "age                            0.086348           -0.042759 -0.158940   \n",
       "concrete_compressive_strength  0.488283            0.103374 -0.080648   \n",
       "\n",
       "                                  water  superplasticizer  coarse_aggregate  \\\n",
       "cement                        -0.056625          0.060906         -0.086205   \n",
       "blast_furnace_slag             0.130262          0.019800         -0.277559   \n",
       "fly_ash                       -0.283314          0.414213         -0.026468   \n",
       "water                          1.000000         -0.646946         -0.212480   \n",
       "superplasticizer              -0.646946          1.000000         -0.241721   \n",
       "coarse_aggregate              -0.212480         -0.241721          1.000000   \n",
       "fine_aggregate                -0.444915          0.207993         -0.162187   \n",
       "age                            0.279284         -0.194076         -0.005264   \n",
       "concrete_compressive_strength -0.269624          0.344209         -0.144717   \n",
       "\n",
       "                               fine_aggregate        age  \\\n",
       "cement                               -0.245375  0.086348   \n",
       "blast_furnace_slag                   -0.289685 -0.042759   \n",
       "fly_ash                               0.090262 -0.158940   \n",
       "water                                -0.444915  0.279284   \n",
       "superplasticizer                      0.207993 -0.194076   \n",
       "coarse_aggregate                     -0.162187 -0.005264   \n",
       "fine_aggregate                        1.000000 -0.156572   \n",
       "age                                  -0.156572  1.000000   \n",
       "concrete_compressive_strength        -0.186448  0.337367   \n",
       "\n",
       "                               concrete_compressive_strength  \n",
       "cement                                              0.488283  \n",
       "blast_furnace_slag                                  0.103374  \n",
       "fly_ash                                            -0.080648  \n",
       "water                                              -0.269624  \n",
       "superplasticizer                                    0.344209  \n",
       "coarse_aggregate                                   -0.144717  \n",
       "fine_aggregate                                     -0.186448  \n",
       "age                                                 0.337367  \n",
       "concrete_compressive_strength                       1.000000  "
      ]
     },
     "execution_count": 12,
     "metadata": {},
     "output_type": "execute_result"
    }
   ],
   "source": [
    "df[(list(df.columns))].corr()"
   ]
  },
  {
   "cell_type": "code",
   "execution_count": 13,
   "id": "bede8820",
   "metadata": {},
   "outputs": [
    {
     "data": {
      "image/png": "[encoded data removed]",
      "text/plain": [
       "<Figure size 1080x720 with 2 Axes>"
      ]
     },
     "metadata": {
      "needs_background": "light"
     },
     "output_type": "display_data"
    }
   ],
   "source": [
    "plt.figure(figsize=(15,10))\n",
    "sns.heatmap(df.corr(),cmap=\"CMRmap\",annot=True)\n",
    "plt.show()"
   ]
  },
  {
   "cell_type": "markdown",
   "id": "1fc21460",
   "metadata": {},
   "source": [
    "Observations:\n",
    "\n",
    "•\tCement have the highest correlation with compressive strength and second one is superplasticizer.\n",
    "\n",
    "•\tfly_ash,water,coarse_aggregate,fine_aggregate have negative correlation with compressive strength.\n"
   ]
  },
  {
   "cell_type": "markdown",
   "id": "ce296f78",
   "metadata": {},
   "source": [
    "Feature Engineering"
   ]
  },
  {
   "cell_type": "markdown",
   "id": "ccfeb54b",
   "metadata": {},
   "source": [
    "1. Numerical Feature"
   ]
  },
  {
   "cell_type": "code",
   "execution_count": 37,
   "id": "a00b82f6",
   "metadata": {},
   "outputs": [
    {
     "name": "stdout",
     "output_type": "stream",
     "text": [
      "Num of Numerical Features : 9\n"
     ]
    }
   ],
   "source": [
    "num_features = [feature for feature in df.columns if df[feature].dtype != 'O']\n",
    "print('Num of Numerical Features :', len(num_features))"
   ]
  },
  {
   "cell_type": "markdown",
   "id": "52f6641f",
   "metadata": {},
   "source": [
    "2. Categorical Feature"
   ]
  },
  {
   "cell_type": "code",
   "execution_count": 38,
   "id": "12acce7e",
   "metadata": {},
   "outputs": [
    {
     "name": "stdout",
     "output_type": "stream",
     "text": [
      "Num of Numerical Features : 0\n"
     ]
    }
   ],
   "source": [
    "cat_features = [feature for feature in df.columns if df[feature].dtype == 'O']\n",
    "print('Num of Numerical Features :', len(cat_features))"
   ]
  },
  {
   "cell_type": "markdown",
   "id": "2e0cb4da",
   "metadata": {},
   "source": [
    "3. Descrete Feature"
   ]
  },
  {
   "cell_type": "code",
   "execution_count": 39,
   "id": "80d813f3",
   "metadata": {},
   "outputs": [
    {
     "name": "stdout",
     "output_type": "stream",
     "text": [
      "Num of Discrete Features : 1\n"
     ]
    }
   ],
   "source": [
    "discrete_feature=[feature for feature in num_features if len(df[feature].unique())<=25]\n",
    "print('Num of Discrete Features :',len(discrete_feature))"
   ]
  },
  {
   "cell_type": "markdown",
   "id": "75a09cf7",
   "metadata": {},
   "source": [
    "Observation:\n",
    "    \n",
    "• There are 9 numerical features in the dataset,amongs which one is discrete.\n",
    "\n",
    "• There are no categorical features in the dataset.\n"
   ]
  },
  {
   "cell_type": "code",
   "execution_count": null,
   "id": "99cf0a3e",
   "metadata": {},
   "outputs": [],
   "source": []
  }
 ],
 "metadata": {
  "kernelspec": {
   "display_name": "Python 3 (ipykernel)",
   "language": "python",
   "name": "python3"
  },
  "language_info": {
   "codemirror_mode": {
    "name": "ipython",
    "version": 3
   },
   "file_extension": ".py",
   "mimetype": "text/x-python",
   "name": "python",
   "nbconvert_exporter": "python",
   "pygments_lexer": "ipython3",
   "version": "3.9.6"
  }
 },
 "nbformat": 4,
 "nbformat_minor": 5
}
